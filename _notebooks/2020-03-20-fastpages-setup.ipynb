{
  "nbformat": 4,
  "nbformat_minor": 0,
  "metadata": {
    "colab": {
      "name": "2020-03-20-fastpages_setup.ipynb",
      "provenance": []
    },
    "kernelspec": {
      "name": "python3",
      "display_name": "Python 3"
    }
  },
  "cells": [
    {
      "cell_type": "markdown",
      "metadata": {
        "id": "Ttq95XQRpSET",
        "colab_type": "text"
      },
      "source": [
        "# fastpagesのセットアップ方法と使い方\n",
        "> タイトルのまんまです。\n",
        "\n",
        "- toc: true \n",
        "- badges: true\n",
        "- comments: true\n",
        "- categories: [jupyter]\n",
        "- image: images/chart-preview.png"
      ]
    },
    {
      "cell_type": "markdown",
      "metadata": {
        "id": "0x3OIUHJahaC",
        "colab_type": "text"
      },
      "source": [
        "# fastpagesのセットアップ方法と使い方\n",
        "\n",
        "[fastpages](https://fastpages.fast.ai/) はipynbファイルをblogエントリとして公開することを支援してくれるツールです。\n",
        "このblogもfastpagesを使って公開しています。\n",
        "このエントリではfastpagesのセットアップと使い方を紹介します。\n",
        "\n",
        "## fastpagesのセットアップ方法\n",
        "\n",
        "1. https://github.com/fastai/fastpages/generate をクリックし、あなたが関わるどのgithubアカウントを使うかなどを設定し、fastpagesをテンプレートとしたプロジェクトを作ります。ただし {your-username}.github.io のプロジェクト名は使えません。\n",
        "2. 1.の作業の数秒後に 1.で作ったプロジェクト宛にpull requestが送られてきます。このpull requestのページを開いてください。そのpull requestには3.以降の操作のインストラクションが書かれています。\n",
        "3. https://8gwifi.org/sshfunctions.jsp を開き ssh の key-pair を作ります。RSA と 4096 を選択し Passphrase は空にします。\n",
        "4. https://github.com/あなたのgithubアカウント名/1.のプロジェクト名/settings/secrets に移動し Add a new secret をクリックします。3.のPrivate Keyを`Value`フィールドにコピペします。`Name`フィールドには`SSH_DEPLOY_KEY`を入れます。\n",
        "5. https://github.com/あなたのgithubアカウント名/1.のプロジェクト名/settings/keys に移動し `Add deploy key` ボタンをクリックします。3.のPublic Keyを`Key`ボックスにコピペします。｀Title` には `fastpages-key` とでも名前付けしましょう。｀Allow write access` にはチェックを入れてください。最後に`Add key`はクリックしてください。\n",
        "6. 5.が済んだら2.のpull requestをmergeしてください。\n",
        "\n",
        "6. が済んだらその数分後に https://あなたのgithubアカウント名.github.io/1.のプロジェクト名 にfastpagesのサイトができあがっています。\n"
      ]
    },
    {
      "cell_type": "markdown",
      "metadata": {
        "id": "pQ5ow6Cj5Rk7",
        "colab_type": "text"
      },
      "source": [
        "## fastpagesの使い方\n",
        "\n",
        "https://あなたのgithubアカウント名.github.io/1.のプロジェクト名/tree/master/_notebooks\n",
        "にipynbを追加するとブログエントリが出来上がります。\n",
        "ただしYYYY-MM-DD-*.ipynbというルールでノートブックを名前付けする必要があります。\n",
        "例えば下記のような名前です。\n",
        "```\n",
        "2020-01-28-My-First-Post.ipynb\n",
        "2012-09-12-how-to-write-a-blog.ipynb\n",
        "```\n",
        "\n",
        "また下記のようなヘッダnotebookの最初のセルに書く必要があります。\n",
        "\n",
        "```\n",
        "# ブログエントリタイトル\n",
        "> サマリ\n",
        "\n",
        "- toc: true \n",
        "- badges: true\n",
        "- comments: true\n",
        "- categories: [jupyter]\n",
        "- image: images/chart-preview.png\n",
        "```\n"
      ]
    },
    {
      "cell_type": "markdown",
      "metadata": {
        "id": "6IO44K175Xjn",
        "colab_type": "text"
      },
      "source": [
        "## 最後に\n",
        "\n",
        "以上「fastpagesのセットアップ方法と使い方」を紹介しました。\n",
        "この記事もfastpagesを使って公開されています。\n"
      ]
    },
    {
      "cell_type": "code",
      "metadata": {
        "id": "2cAFqSc25YP-",
        "colab_type": "code",
        "colab": {}
      },
      "source": [
        ""
      ],
      "execution_count": 0,
      "outputs": []
    }
  ]
}
